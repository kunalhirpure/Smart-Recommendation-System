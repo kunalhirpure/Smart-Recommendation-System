{
 "cells": [
  {
   "cell_type": "code",
   "execution_count": null,
   "id": "5bd062c9",
   "metadata": {},
   "outputs": [],
   "source": [
    "import pandas as pd\n",
    "from textblob import TextBlob\n",
    "import random"
   ]
  },
  {
   "cell_type": "code",
   "execution_count": null,
   "id": "477567aa",
   "metadata": {},
   "outputs": [],
   "source": [
    "# Load the dataset (replace with actual path if needed)\n",
    "df = pd.read_csv(\"movies_with_sentiment.csv\")"
   ]
  },
  {
   "cell_type": "code",
   "execution_count": null,
   "id": "f62412cf",
   "metadata": {},
   "outputs": [],
   "source": [
    "# Perform sentiment analysis using TextBlob on the \"overview\" column\n",
    "df[\"sentiment_score\"] = df[\"overview\"].astype(str).apply(lambda x: TextBlob(x).sentiment.polarity)\n",
    "# Categorize sentiment based on the polarity score\n",
    "df[\"sentiment_category\"] = df[\"sentiment_score\"].apply(\n",
    "    lambda x: \"Positive\" if x > 0.05 else (\"Negative\" if x < -0.05 else \"Neutral\")\n",
    ")"
   ]
  },
  {
   "cell_type": "code",
   "execution_count": null,
   "id": "2bbfa083",
   "metadata": {},
   "outputs": [],
   "source": [
    "def recommend_movies(user_mood, movies_df, num_recommendations=5):\n",
    "    \"\"\"\n",
    "    Recommend movies based on the user's mood.\n",
    "    \n",
    "    Parameters:\n",
    "    - user_mood (str): 'Positive', 'Neutral', or 'Negative'\n",
    "    - movies_df (DataFrame): Movie dataset with sentiment analysis\n",
    "    - num_recommendations (int): Number of recommendations to return\n",
    "    \n",
    "    Returns:\n",
    "    - DataFrame: Recommended movies\n",
    "    \"\"\"\n",
    "    \n",
    "    if user_mood == 'Positive':\n",
    "        recommended_movies = movies_df[movies_df['sentiment_category'] == 'Positive']\n",
    "    elif user_mood == 'Negative':\n",
    "        recommended_movies = movies_df[movies_df['sentiment_category'].isin(['Positive', 'Negative'])]\n",
    "    else:\n",
    "        recommended_movies = movies_df[movies_df['sentiment_category'].isin(['Neutral', 'Positive'])]\n",
    "    \n",
    "    return recommended_movies.sample(n=min(num_recommendations, len(recommended_movies)))"
   ]
  },
  {
   "cell_type": "code",
   "execution_count": null,
   "id": "f7335284",
   "metadata": {},
   "outputs": [],
   "source": [
    "def get_random_movie_suggestion(movies_df):\n",
    "    \"\"\"Returns a completely random movie suggestion from the dataset.\"\"\"\n",
    "    return movies_df.sample(n=1)[['title', 'sentiment_category']]"
   ]
  },
  {
   "cell_type": "code",
   "execution_count": null,
   "id": "8dc81af0",
   "metadata": {},
   "outputs": [],
   "source": [
    "def get_top_movies(movies_df, num_top=5):\n",
    "    \"\"\"Returns the top movies based on sentiment score.\"\"\"\n",
    "    return movies_df.sort_values(by='sentiment_score', ascending=False).head(num_top)[['title', 'sentiment_category', 'sentiment_score']]"
   ]
  },
  {
   "cell_type": "code",
   "execution_count": null,
   "id": "c8e3f512",
   "metadata": {},
   "outputs": [],
   "source": [
    "# Example Usage:\n",
    "user_mood = input(\"Enter your mood (Positive/Neutral/Negative): \")\n",
    "recommended_movies = recommend_movies(user_mood, df)\n",
    "print(\"\\nRecommended Movies:\")\n",
    "print(recommended_movies[['title', 'sentiment_category']])\n",
    "\n",
    "# Extra Features:\n",
    "print(\"\\nRandom Movie Suggestion:\")\n",
    "print(get_random_movie_suggestion(df))\n",
    "\n",
    "print(\"\\nTop Movies Based on Sentiment Score:\")\n",
    "print(get_top_movies(df))"
   ]
  }
 ],
 "metadata": {},
 "nbformat": 4,
 "nbformat_minor": 5
}
